{
 "cells": [
  {
   "cell_type": "markdown",
   "metadata": {},
   "source": [
    "# Geocoding\n",
    "\n",
    "https://developer.here.com/documentation/geocoder/topics/what-is.html"
   ]
  },
  {
   "cell_type": "markdown",
   "metadata": {},
   "source": [
    "## Geocode using free-form input\n",
    "\n",
    "https://developer.here.com/api-explorer/rest/geocoder/latitude-longitude-by-free-form-address"
   ]
  },
  {
   "cell_type": "markdown",
   "metadata": {},
   "source": [
    "### Requests"
   ]
  },
  {
   "cell_type": "code",
   "execution_count": 1,
   "metadata": {},
   "outputs": [
    {
     "data": {
      "text/plain": [
       "{'Response': {'MetaInfo': {'Timestamp': '2018-11-07T22:07:36.833+0000'},\n",
       "  'View': [{'_type': 'SearchResultsViewType',\n",
       "    'ViewId': 0,\n",
       "    'Result': [{'Relevance': 1.0,\n",
       "      'MatchLevel': 'houseNumber',\n",
       "      'MatchQuality': {'Country': 1.0,\n",
       "       'City': 1.0,\n",
       "       'Street': [1.0],\n",
       "       'HouseNumber': 1.0,\n",
       "       'PostalCode': 1.0},\n",
       "      'MatchType': 'pointAddress',\n",
       "      'Location': {'LocationId': 'NT_5v-U9-t5AZa5VsRdV06lLB_xEjN',\n",
       "       'LocationType': 'point',\n",
       "       'DisplayPosition': {'Latitude': 52.53086, 'Longitude': 13.38474},\n",
       "       'NavigationPosition': [{'Latitude': 52.531, 'Longitude': 13.38461}],\n",
       "       'MapView': {'TopLeft': {'Latitude': 52.5319842,\n",
       "         'Longitude': 13.3828921},\n",
       "        'BottomRight': {'Latitude': 52.5297358, 'Longitude': 13.3865879}},\n",
       "       'Address': {'Label': 'Invalidenstraße 116, 10115 Berlin, Deutschland',\n",
       "        'Country': 'DEU',\n",
       "        'State': 'Berlin',\n",
       "        'County': 'Berlin',\n",
       "        'City': 'Berlin',\n",
       "        'District': 'Mitte',\n",
       "        'Street': 'Invalidenstraße',\n",
       "        'HouseNumber': '116',\n",
       "        'PostalCode': '10115',\n",
       "        'AdditionalData': [{'value': 'Deutschland', 'key': 'CountryName'},\n",
       "         {'value': 'Berlin', 'key': 'StateName'},\n",
       "         {'value': 'Berlin', 'key': 'CountyName'}]}}}]}]}}"
      ]
     },
     "execution_count": 1,
     "metadata": {},
     "output_type": "execute_result"
    }
   ],
   "source": [
    "from urllib.parse import quote\n",
    "import requests\n",
    "\n",
    "from credentials import APP_ID, APP_CODE\n",
    "\n",
    "url = 'https://geocoder.api.here.com/6.2/geocode.json'\n",
    "params = dict(\n",
    "    searchtext=quote('Invalidenstr. 116, 10115 Berlin, Germany'),\n",
    "    app_id=APP_ID, \n",
    "    app_code=APP_CODE\n",
    ")\n",
    "query = '&'.join(f'{k}={v}' for (k, v) in params.items())\n",
    "requests.get(f'{url}?{query}').json()"
   ]
  },
  {
   "cell_type": "markdown",
   "metadata": {},
   "source": [
    "### Geopy"
   ]
  },
  {
   "cell_type": "code",
   "execution_count": 2,
   "metadata": {},
   "outputs": [],
   "source": [
    "from geopy.geocoders import Here\n",
    "from credentials import APP_ID, APP_CODE\n",
    "\n",
    "geocoder = Here(APP_ID, APP_CODE)\n",
    "res = geocoder.geocode('Invalidenstr. 116, 10115 Berlin, Germany')"
   ]
  },
  {
   "cell_type": "code",
   "execution_count": 3,
   "metadata": {},
   "outputs": [
    {
     "data": {
      "text/plain": [
       "Location(Invalidenstraße 116, 10115 Berlin, Deutschland, Berlin, Berlin 10115, DEU, (52.53086, 13.38474, 0.0))"
      ]
     },
     "execution_count": 3,
     "metadata": {},
     "output_type": "execute_result"
    }
   ],
   "source": [
    "res"
   ]
  },
  {
   "cell_type": "code",
   "execution_count": 4,
   "metadata": {},
   "outputs": [
    {
     "data": {
      "text/plain": [
       "'Invalidenstraße 116, 10115 Berlin, Deutschland, Berlin, Berlin 10115, DEU'"
      ]
     },
     "execution_count": 4,
     "metadata": {},
     "output_type": "execute_result"
    }
   ],
   "source": [
    "res.address"
   ]
  },
  {
   "cell_type": "code",
   "execution_count": 5,
   "metadata": {},
   "outputs": [
    {
     "data": {
      "text/plain": [
       "{'Relevance': 1.0,\n",
       " 'MatchLevel': 'houseNumber',\n",
       " 'MatchQuality': {'Country': 1.0,\n",
       "  'City': 1.0,\n",
       "  'Street': [1.0],\n",
       "  'HouseNumber': 1.0,\n",
       "  'PostalCode': 1.0},\n",
       " 'MatchType': 'pointAddress',\n",
       " 'Location': {'LocationId': 'NT_5v-U9-t5AZa5VsRdV06lLB_xEjN',\n",
       "  'LocationType': 'point',\n",
       "  'DisplayPosition': {'Latitude': 52.53086, 'Longitude': 13.38474},\n",
       "  'NavigationPosition': [{'Latitude': 52.531, 'Longitude': 13.38461}],\n",
       "  'MapView': {'TopLeft': {'Latitude': 52.5319842, 'Longitude': 13.3828921},\n",
       "   'BottomRight': {'Latitude': 52.5297358, 'Longitude': 13.3865879}},\n",
       "  'Address': {'Label': 'Invalidenstraße 116, 10115 Berlin, Deutschland',\n",
       "   'Country': 'DEU',\n",
       "   'State': 'Berlin',\n",
       "   'County': 'Berlin',\n",
       "   'City': 'Berlin',\n",
       "   'District': 'Mitte',\n",
       "   'Street': 'Invalidenstraße',\n",
       "   'HouseNumber': '116',\n",
       "   'PostalCode': '10115',\n",
       "   'AdditionalData': [{'value': 'Deutschland', 'key': 'CountryName'},\n",
       "    {'value': 'Berlin', 'key': 'StateName'},\n",
       "    {'value': 'Berlin', 'key': 'CountyName'}]}}}"
      ]
     },
     "execution_count": 5,
     "metadata": {},
     "output_type": "execute_result"
    }
   ],
   "source": [
    "res.raw"
   ]
  },
  {
   "cell_type": "markdown",
   "metadata": {},
   "source": [
    "### Ipyrest"
   ]
  },
  {
   "cell_type": "code",
   "execution_count": 6,
   "metadata": {},
   "outputs": [
    {
     "data": {
      "application/vnd.jupyter.widget-view+json": {
       "model_id": "e33e557b6928424cb565928925e172ed",
       "version_major": 2,
       "version_minor": 0
      },
      "text/plain": [
       "Api(children=(HBox(children=(Dropdown(layout=Layout(width='100%px'), options=('GET', 'POST', 'PUT', 'PATCH', '…"
      ]
     },
     "metadata": {},
     "output_type": "display_data"
    }
   ],
   "source": [
    "from urllib.parse import quote\n",
    "\n",
    "from ipyrest import Api\n",
    "from credentials import APP_ID, APP_CODE\n",
    "\n",
    "url = 'https://geocoder.api.here.com/6.2/geocode.json'\n",
    "params = dict(\n",
    "    searchtext=quote('Invalidenstr. 116, 10115 Berlin, Germany'),\n",
    "    app_id=APP_ID, \n",
    "    app_code=APP_CODE\n",
    ")\n",
    "Api(url, params=params)"
   ]
  },
  {
   "cell_type": "markdown",
   "metadata": {},
   "source": [
    "## Geocode an address within a bounding box\n",
    "\n",
    "https://developer.here.com/api-explorer/rest/geocoder/latitude-longitude-by-mapview-parameter"
   ]
  },
  {
   "cell_type": "code",
   "execution_count": 7,
   "metadata": {
    "scrolled": true
   },
   "outputs": [
    {
     "data": {
      "application/vnd.jupyter.widget-view+json": {
       "model_id": "6f4ecadbdc324aef9de4542bdc9e2686",
       "version_major": 2,
       "version_minor": 0
      },
      "text/plain": [
       "Api(children=(HBox(children=(Dropdown(layout=Layout(width='100%px'), options=('GET', 'POST', 'PUT', 'PATCH', '…"
      ]
     },
     "metadata": {},
     "output_type": "display_data"
    }
   ],
   "source": [
    "url = 'https://geocoder.api.here.com/6.2/geocode.json'\n",
    "params = dict(\n",
    "    searchtext=quote('1 main'),\n",
    "    mapview='42.3902,-71.1293;42.3312,-71.0228',\n",
    "    gen='9',\n",
    "    app_id=APP_ID, \n",
    "    app_code=APP_CODE\n",
    ")\n",
    "Api(url, params=params, click_send=True)"
   ]
  },
  {
   "cell_type": "markdown",
   "metadata": {},
   "source": [
    "## Geocode using partial address information\n",
    "\n",
    "https://developer.here.com/api-explorer/rest/geocoder/latitude-longitude-by-partial-address"
   ]
  },
  {
   "cell_type": "code",
   "execution_count": 8,
   "metadata": {},
   "outputs": [
    {
     "data": {
      "application/vnd.jupyter.widget-view+json": {
       "model_id": "de992beceac643aab677814c72b85b51",
       "version_major": 2,
       "version_minor": 0
      },
      "text/plain": [
       "Api(children=(HBox(children=(Dropdown(layout=Layout(width='100%px'), options=('GET', 'POST', 'PUT', 'PATCH', '…"
      ]
     },
     "metadata": {},
     "output_type": "display_data"
    }
   ],
   "source": [
    "url = 'https://geocoder.api.here.com/6.2/geocode.json'\n",
    "params = dict(\n",
    "    housenumber='427',\n",
    "    street='randolph',\n",
    "    city='chicago',\n",
    "    country='usa',\n",
    "    gen='9',\n",
    "    app_id=APP_ID, \n",
    "    app_code=APP_CODE\n",
    ")\n",
    "api = Api(url, params=params, click_send=True)\n",
    "api"
   ]
  },
  {
   "cell_type": "code",
   "execution_count": 9,
   "metadata": {},
   "outputs": [
    {
     "data": {
      "text/plain": [
       "{'LocationId': 'NT_Opil2LPZVRLZjlWNLJQuWB_0IzN',\n",
       " 'LocationType': 'address',\n",
       " 'DisplayPosition': {'Latitude': 41.8843349, 'Longitude': -87.6392752},\n",
       " 'NavigationPosition': [{'Latitude': 41.8844697, 'Longitude': -87.6392792}],\n",
       " 'MapView': {'TopLeft': {'Latitude': 41.885459, 'Longitude': -87.6407852},\n",
       "  'BottomRight': {'Latitude': 41.8832107, 'Longitude': -87.6377653}},\n",
       " 'Address': {'Label': '427 W Randolph St, Chicago, IL 60606, United States',\n",
       "  'Country': 'USA',\n",
       "  'State': 'IL',\n",
       "  'County': 'Cook',\n",
       "  'City': 'Chicago',\n",
       "  'District': 'West Loop',\n",
       "  'Street': 'W Randolph St',\n",
       "  'HouseNumber': '427',\n",
       "  'PostalCode': '60606',\n",
       "  'AdditionalData': [{'value': 'United States', 'key': 'CountryName'},\n",
       "   {'value': 'Illinois', 'key': 'StateName'},\n",
       "   {'value': 'Cook', 'key': 'CountyName'},\n",
       "   {'value': 'N', 'key': 'PostalCodeType'}]}}"
      ]
     },
     "execution_count": 9,
     "metadata": {},
     "output_type": "execute_result"
    }
   ],
   "source": [
    "api.resp.json()['Response']['View'][0]['Result'][0]['Location']"
   ]
  },
  {
   "cell_type": "markdown",
   "metadata": {},
   "source": [
    "## Geocode a street intersection\n",
    "\n",
    "https://developer.here.com/api-explorer/rest/geocoder/latitude-longitude-intersection"
   ]
  },
  {
   "cell_type": "code",
   "execution_count": 10,
   "metadata": {},
   "outputs": [
    {
     "data": {
      "application/vnd.jupyter.widget-view+json": {
       "model_id": "770528a891834bc7be3a1608270495b1",
       "version_major": 2,
       "version_minor": 0
      },
      "text/plain": [
       "Api(children=(HBox(children=(Dropdown(layout=Layout(width='100%px'), options=('GET', 'POST', 'PUT', 'PATCH', '…"
      ]
     },
     "metadata": {},
     "output_type": "display_data"
    }
   ],
   "source": [
    "url = 'https://geocoder.api.here.com/6.2/geocode.json'\n",
    "params = dict(\n",
    "    street='invaliden @ chaussee',\n",
    "    city='berlin',\n",
    "    country='germany',\n",
    "    gen='9',\n",
    "    app_id=APP_ID, \n",
    "    app_code=APP_CODE\n",
    ")\n",
    "api = Api(url, params=params, click_send=True)\n",
    "api"
   ]
  },
  {
   "cell_type": "code",
   "execution_count": 11,
   "metadata": {},
   "outputs": [
    {
     "data": {
      "text/plain": [
       "{'LocationId': 'NT_5v-U9-t5AZa5VsRdV06lLB_x_QCxCphrBf94EOQRDWbXtCC',\n",
       " 'LocationType': 'address',\n",
       " 'DisplayPosition': {'Latitude': 52.53058, 'Longitude': 13.38307},\n",
       " 'NavigationPosition': [{'Latitude': 52.53058, 'Longitude': 13.38307}],\n",
       " 'MapView': {'TopLeft': {'Latitude': 52.5395732, 'Longitude': 13.3682867},\n",
       "  'BottomRight': {'Latitude': 52.5215868, 'Longitude': 13.3978533}},\n",
       " 'Address': {'Label': 'Invalidenstraße & Chausseestraße, 10115 Berlin, Deutschland',\n",
       "  'Country': 'DEU',\n",
       "  'State': 'Berlin',\n",
       "  'County': 'Berlin',\n",
       "  'City': 'Berlin',\n",
       "  'District': 'Mitte',\n",
       "  'Street': 'Invalidenstraße & Chausseestraße',\n",
       "  'PostalCode': '10115',\n",
       "  'AdditionalData': [{'value': 'Deutschland', 'key': 'CountryName'},\n",
       "   {'value': 'Berlin', 'key': 'StateName'},\n",
       "   {'value': 'Berlin', 'key': 'CountyName'}]}}"
      ]
     },
     "execution_count": 11,
     "metadata": {},
     "output_type": "execute_result"
    }
   ],
   "source": [
    "api.resp.json()['Response']['View'][0]['Result'][0]['Location']"
   ]
  },
  {
   "cell_type": "markdown",
   "metadata": {},
   "source": [
    "## Reverse geocode an address from a location\n",
    "\n",
    "https://developer.here.com/api-explorer/rest/geocoder/reverse-geocode"
   ]
  },
  {
   "cell_type": "code",
   "execution_count": 12,
   "metadata": {},
   "outputs": [
    {
     "data": {
      "application/vnd.jupyter.widget-view+json": {
       "model_id": "1aab7642986e473dbad9a21c828cf5a5",
       "version_major": 2,
       "version_minor": 0
      },
      "text/plain": [
       "Api(children=(HBox(children=(Dropdown(layout=Layout(width='100%px'), options=('GET', 'POST', 'PUT', 'PATCH', '…"
      ]
     },
     "metadata": {},
     "output_type": "display_data"
    }
   ],
   "source": [
    "url = 'https://reverse.geocoder.api.here.com/6.2/reversegeocode.json'\n",
    "params = dict(\n",
    "    prox='41.8842,-87.6388,250',\n",
    "    mode='retrieveAddresses',\n",
    "    maxresults='1',\n",
    "    gen='9',\n",
    "    app_id=APP_ID, \n",
    "    app_code=APP_CODE\n",
    ")\n",
    "api = Api(url, params=params, click_send=True)\n",
    "api"
   ]
  },
  {
   "cell_type": "code",
   "execution_count": 13,
   "metadata": {},
   "outputs": [
    {
     "data": {
      "text/plain": [
       "{'LocationId': 'NT_Opil2LPZVRLZjlWNLJQuWB_0ITN',\n",
       " 'LocationType': 'address',\n",
       " 'DisplayPosition': {'Latitude': 41.88432, 'Longitude': -87.63877},\n",
       " 'NavigationPosition': [{'Latitude': 41.88449, 'Longitude': -87.63877}],\n",
       " 'MapView': {'TopLeft': {'Latitude': 41.8854442, 'Longitude': -87.64028},\n",
       "  'BottomRight': {'Latitude': 41.8831958, 'Longitude': -87.63726}},\n",
       " 'Address': {'Label': '425 W Randolph St, Chicago, IL 60606, United States',\n",
       "  'Country': 'USA',\n",
       "  'State': 'IL',\n",
       "  'County': 'Cook',\n",
       "  'City': 'Chicago',\n",
       "  'District': 'West Loop',\n",
       "  'Street': 'W Randolph St',\n",
       "  'HouseNumber': '425',\n",
       "  'PostalCode': '60606',\n",
       "  'AdditionalData': [{'value': 'United States', 'key': 'CountryName'},\n",
       "   {'value': 'Illinois', 'key': 'StateName'},\n",
       "   {'value': 'Cook', 'key': 'CountyName'},\n",
       "   {'value': 'N', 'key': 'PostalCodeType'}]},\n",
       " 'MapReference': {'ReferenceId': '776372180',\n",
       "  'MapId': 'NAAM18133',\n",
       "  'MapVersion': 'Q1/2018',\n",
       "  'MapReleaseDate': '2018-10-30',\n",
       "  'Spot': 0.52,\n",
       "  'SideOfStreet': 'right',\n",
       "  'CountryId': '21000001',\n",
       "  'StateId': '21002247',\n",
       "  'CountyId': '21002623',\n",
       "  'CityId': '21002647',\n",
       "  'BuildingId': '9000000000002726912',\n",
       "  'AddressId': '79186508'}}"
      ]
     },
     "execution_count": 13,
     "metadata": {},
     "output_type": "execute_result"
    }
   ],
   "source": [
    "api.resp.json()['Response']['View'][0]['Result'][0]['Location']"
   ]
  },
  {
   "cell_type": "markdown",
   "metadata": {},
   "source": [
    "## Reverse geocode the shape of a postal code\n",
    "\n",
    "https://developer.here.com/api-explorer/rest/geocoder/reverse-geocode-postal-shape"
   ]
  },
  {
   "cell_type": "code",
   "execution_count": 21,
   "metadata": {},
   "outputs": [
    {
     "data": {
      "application/vnd.jupyter.widget-view+json": {
       "model_id": "c06866e2be444022ab5e7bb8a25d9f65",
       "version_major": 2,
       "version_minor": 0
      },
      "text/plain": [
       "Api(children=(HBox(children=(Dropdown(layout=Layout(width='100%px'), options=('GET', 'POST', 'PUT', 'PATCH', '…"
      ]
     },
     "metadata": {},
     "output_type": "display_data"
    }
   ],
   "source": [
    "url = 'https://reverse.geocoder.api.here.com/6.2/reversegeocode.json'\n",
    "params = dict(\n",
    "    prox='41.8842,-87.6388,250',\n",
    "    # prox='52.5,13.4,250',\n",
    "    mode='retrieveAddresses',\n",
    "    maxresults='1',\n",
    "    additionaldata='IncludeShapeLevel,postalCode',\n",
    "    gen='9',\n",
    "    app_id=APP_ID, \n",
    "    app_code=APP_CODE\n",
    ")\n",
    "api = Api(url, params=params, click_send=True)\n",
    "api"
   ]
  },
  {
   "cell_type": "code",
   "execution_count": 22,
   "metadata": {},
   "outputs": [
    {
     "data": {
      "text/plain": [
       "'MULTIPOLYGON (((13.41694 52.50406, 13.41673 52.50377, 13.41675 52.50372, 13.41668 52.50369, 13.41614 52.50295, 13.41616 52.5029, 13.41608 52.50287, 13.41594 52.50291, 13.41585 52.50291, 13.41587 52.50299, 13.41591 52.503, 13.41673 52.5042, 13.41678 52.50426, 13.41685 52.50429, 13.41687 52.50424, 13.41685 52.50421, 13.41693 52.50421, 13.41699 52.50414, 13.41701 52.50409, 13.41694 52.50406)), ((13.3958 52.49761, 13.39582 52.49769, 13.39584 52.49769, 13.39586 52.49775, 13.39677 52.49765, 13.39799 52.49745, 13.3987 52.49723, 13.39883 52.49741, 13.39839 52.49756, 13.39766 52.49772, 13.39637 52.49791, 13.39599 52.49794, 13.39589 52.49792, 13.39586 52.49793, 13.3958 52.49788, 13.39562 52.4978, 13.3956 52.49782, 13.39546 52.49774, 13.3951 52.49763, 13.39486 52.49761, 13.39485 52.49765, 13.39523 52.49776, 13.3947 52.49778, 13.39413 52.49775, 13.39205 52.49751, 13.39206 52.49745, 13.39203 52.4974, 13.39197 52.49744, 13.39195 52.4975, 13.39129 52.49746, 13.39064 52.49747, 13.39011 52.49752, 13.38954 52.49763, 13.38957 52.49791, 13.38917 52.498, 13.38911 52.49805, 13.38914 52.4981, 13.38908 52.49813, 13.38911 52.49818, 13.38941 52.49824, 13.38956 52.49829, 13.38961 52.49829, 13.38973 52.49936, 13.38945 52.49936, 13.38892 52.49933, 13.38887 52.49937, 13.38892 52.49943, 13.38944 52.49952, 13.38975 52.49951, 13.38989 52.50081, 13.38968 52.50081, 13.38949 52.50079, 13.38874 52.50067, 13.38869 52.50071, 13.38873 52.50076, 13.38947 52.50087, 13.3899 52.5009, 13.38996 52.50144, 13.38994 52.50147, 13.38997 52.50152, 13.38981 52.50154, 13.38944 52.50168, 13.38859 52.50163, 13.38853 52.50167, 13.38856 52.50172, 13.38976 52.5018, 13.3888 52.5031, 13.38872 52.5031, 13.38847 52.50304, 13.38854 52.5027, 13.38853 52.50265, 13.38848 52.50265, 13.38846 52.50267, 13.38839 52.50302, 13.38794 52.50291, 13.38787 52.50294, 13.38789 52.50299, 13.38776 52.50325, 13.38769 52.50328, 13.38772 52.50333, 13.38771 52.50335, 13.38764 52.50338, 13.38766 52.50343, 13.38742 52.50391, 13.38735 52.50394, 13.38737 52.50399, 13.38726 52.50421, 13.38723 52.50426, 13.38716 52.5043, 13.38719 52.50435, 13.38784 52.50439, 13.38633 52.50642, 13.38613 52.50639, 13.38606 52.50642, 13.38608 52.50647, 13.38627 52.5065, 13.3856 52.50741, 13.38553 52.50745, 13.39036 52.50768, 13.39916 52.50823, 13.3998 52.50914, 13.39984 52.50912, 13.40009 52.50952, 13.40007 52.50957, 13.40151 52.50905, 13.40282 52.50861, 13.4038 52.5082, 13.40448 52.50787, 13.40456 52.50786, 13.40513 52.50818, 13.40513 52.50823, 13.4057 52.50784, 13.40594 52.5078, 13.40784 52.50618, 13.40785 52.50623, 13.40803 52.50628, 13.40876 52.50656, 13.40885 52.50654, 13.40886 52.50659, 13.40997 52.50701, 13.41004 52.50699, 13.41149 52.5052, 13.41174 52.50494, 13.41423 52.50407, 13.41422 52.50412, 13.41464 52.50463, 13.4147 52.50484, 13.41475 52.50484, 13.41478 52.50479, 13.41473 52.50461, 13.41468 52.50461, 13.41467 52.50453, 13.41496 52.50388, 13.41504 52.50381, 13.41501 52.50377, 13.41425 52.50402, 13.41347 52.50293, 13.4148 52.50255, 13.41482 52.5025, 13.41474 52.50247, 13.41457 52.50226, 13.41456 52.50211, 13.41458 52.50199, 13.41466 52.50186, 13.41476 52.50179, 13.41483 52.50169, 13.41488 52.50169, 13.41492 52.50171, 13.4149 52.50176, 13.41522 52.50168, 13.41529 52.50171, 13.41531 52.50166, 13.41557 52.50159, 13.41565 52.50153, 13.41554 52.50145, 13.41538 52.50123, 13.4154 52.50118, 13.41532 52.50115, 13.41463 52.5002, 13.41465 52.50015, 13.41457 52.50013, 13.41402 52.49944, 13.41403 52.49938, 13.41401 52.49934, 13.41424 52.49925, 13.41432 52.49918, 13.41437 52.49909, 13.41436 52.49901, 13.41408 52.49865, 13.4141 52.49861, 13.41405 52.49857, 13.41403 52.49847, 13.41407 52.49843, 13.41379 52.49805, 13.41373 52.49802, 13.41373 52.49797, 13.41365 52.49797, 13.41361 52.49793, 13.41354 52.49791, 13.41296 52.49787, 13.41291 52.49784, 13.41292 52.49779, 13.41285 52.49777, 13.41242 52.49717, 13.41243 52.49711, 13.41236 52.49709, 13.41193 52.4965, 13.41195 52.49645, 13.4118 52.49644, 13.41159 52.49637, 13.4115 52.49623, 13.41137 52.49596, 13.4114 52.49592, 13.41139 52.49587, 13.41116 52.49583, 13.41051 52.49588, 13.41049 52.49585, 13.41023 52.4959, 13.40854 52.49604, 13.40822 52.4956, 13.40777 52.49568, 13.40639 52.49586, 13.40612 52.49595, 13.40572 52.49634, 13.40561 52.49639, 13.40511 52.49646, 13.40172 52.4967, 13.40091 52.4968, 13.39992 52.49696, 13.39879 52.4972, 13.39876 52.49716, 13.39871 52.49714, 13.39874 52.49705, 13.3987 52.49705, 13.39866 52.49711, 13.39793 52.49733, 13.39593 52.49763, 13.39591 52.49759, 13.3958 52.49761)))'"
      ]
     },
     "execution_count": 22,
     "metadata": {},
     "output_type": "execute_result"
    }
   ],
   "source": [
    "wkt_shape = api.resp.json()['Response']['View'][0]['Result'][0]['Location']['Shape']['Value']\n",
    "wkt_shape"
   ]
  },
  {
   "cell_type": "code",
   "execution_count": 24,
   "metadata": {},
   "outputs": [
    {
     "data": {
      "image/svg+xml": [
       "<svg xmlns=\"http://www.w3.org/2000/svg\" xmlns:xlink=\"http://www.w3.org/1999/xlink\" width=\"100.0\" height=\"100.0\" viewBox=\"13.3842708 52.4943408 0.03399839999999976 0.016488399999992964\" preserveAspectRatio=\"xMinYMin meet\"><g transform=\"matrix(1,0,0,-1,0,105.00516999999999)\"><g><path fill-rule=\"evenodd\" fill=\"#66cc99\" stroke=\"#555555\" stroke-width=\"0.0006799679999999952\" opacity=\"0.6\" d=\"M 13.41694,52.50406 L 13.41673,52.50377 L 13.41675,52.50372 L 13.41668,52.50369 L 13.41614,52.50295 L 13.41616,52.5029 L 13.41608,52.50287 L 13.41594,52.50291 L 13.41585,52.50291 L 13.41587,52.50299 L 13.41591,52.503 L 13.41673,52.5042 L 13.41678,52.50426 L 13.41685,52.50429 L 13.41687,52.50424 L 13.41685,52.50421 L 13.41693,52.50421 L 13.41699,52.50414 L 13.41701,52.50409 L 13.41694,52.50406 z\" /><path fill-rule=\"evenodd\" fill=\"#66cc99\" stroke=\"#555555\" stroke-width=\"0.0006799679999999952\" opacity=\"0.6\" d=\"M 13.3958,52.49761 L 13.39582,52.49769 L 13.39584,52.49769 L 13.39586,52.49775 L 13.39677,52.49765 L 13.39799,52.49745 L 13.3987,52.49723 L 13.39883,52.49741 L 13.39839,52.49756 L 13.39766,52.49772 L 13.39637,52.49791 L 13.39599,52.49794 L 13.39589,52.49792 L 13.39586,52.49793 L 13.3958,52.49788 L 13.39562,52.4978 L 13.3956,52.49782 L 13.39546,52.49774 L 13.3951,52.49763 L 13.39486,52.49761 L 13.39485,52.49765 L 13.39523,52.49776 L 13.3947,52.49778 L 13.39413,52.49775 L 13.39205,52.49751 L 13.39206,52.49745 L 13.39203,52.4974 L 13.39197,52.49744 L 13.39195,52.4975 L 13.39129,52.49746 L 13.39064,52.49747 L 13.39011,52.49752 L 13.38954,52.49763 L 13.38957,52.49791 L 13.38917,52.498 L 13.38911,52.49805 L 13.38914,52.4981 L 13.38908,52.49813 L 13.38911,52.49818 L 13.38941,52.49824 L 13.38956,52.49829 L 13.38961,52.49829 L 13.38973,52.49936 L 13.38945,52.49936 L 13.38892,52.49933 L 13.38887,52.49937 L 13.38892,52.49943 L 13.38944,52.49952 L 13.38975,52.49951 L 13.38989,52.50081 L 13.38968,52.50081 L 13.38949,52.50079 L 13.38874,52.50067 L 13.38869,52.50071 L 13.38873,52.50076 L 13.38947,52.50087 L 13.3899,52.5009 L 13.38996,52.50144 L 13.38994,52.50147 L 13.38997,52.50152 L 13.38981,52.50154 L 13.38944,52.50168 L 13.38859,52.50163 L 13.38853,52.50167 L 13.38856,52.50172 L 13.38976,52.5018 L 13.3888,52.5031 L 13.38872,52.5031 L 13.38847,52.50304 L 13.38854,52.5027 L 13.38853,52.50265 L 13.38848,52.50265 L 13.38846,52.50267 L 13.38839,52.50302 L 13.38794,52.50291 L 13.38787,52.50294 L 13.38789,52.50299 L 13.38776,52.50325 L 13.38769,52.50328 L 13.38772,52.50333 L 13.38771,52.50335 L 13.38764,52.50338 L 13.38766,52.50343 L 13.38742,52.50391 L 13.38735,52.50394 L 13.38737,52.50399 L 13.38726,52.50421 L 13.38723,52.50426 L 13.38716,52.5043 L 13.38719,52.50435 L 13.38784,52.50439 L 13.38633,52.50642 L 13.38613,52.50639 L 13.38606,52.50642 L 13.38608,52.50647 L 13.38627,52.5065 L 13.3856,52.50741 L 13.38553,52.50745 L 13.39036,52.50768 L 13.39916,52.50823 L 13.3998,52.50914 L 13.39984,52.50912 L 13.40009,52.50952 L 13.40007,52.50957 L 13.40151,52.50905 L 13.40282,52.50861 L 13.4038,52.5082 L 13.40448,52.50787 L 13.40456,52.50786 L 13.40513,52.50818 L 13.40513,52.50823 L 13.4057,52.50784 L 13.40594,52.5078 L 13.40784,52.50618 L 13.40785,52.50623 L 13.40803,52.50628 L 13.40876,52.50656 L 13.40885,52.50654 L 13.40886,52.50659 L 13.40997,52.50701 L 13.41004,52.50699 L 13.41149,52.5052 L 13.41174,52.50494 L 13.41423,52.50407 L 13.41422,52.50412 L 13.41464,52.50463 L 13.4147,52.50484 L 13.41475,52.50484 L 13.41478,52.50479 L 13.41473,52.50461 L 13.41468,52.50461 L 13.41467,52.50453 L 13.41496,52.50388 L 13.41504,52.50381 L 13.41501,52.50377 L 13.41425,52.50402 L 13.41347,52.50293 L 13.4148,52.50255 L 13.41482,52.5025 L 13.41474,52.50247 L 13.41457,52.50226 L 13.41456,52.50211 L 13.41458,52.50199 L 13.41466,52.50186 L 13.41476,52.50179 L 13.41483,52.50169 L 13.41488,52.50169 L 13.41492,52.50171 L 13.4149,52.50176 L 13.41522,52.50168 L 13.41529,52.50171 L 13.41531,52.50166 L 13.41557,52.50159 L 13.41565,52.50153 L 13.41554,52.50145 L 13.41538,52.50123 L 13.4154,52.50118 L 13.41532,52.50115 L 13.41463,52.5002 L 13.41465,52.50015 L 13.41457,52.50013 L 13.41402,52.49944 L 13.41403,52.49938 L 13.41401,52.49934 L 13.41424,52.49925 L 13.41432,52.49918 L 13.41437,52.49909 L 13.41436,52.49901 L 13.41408,52.49865 L 13.4141,52.49861 L 13.41405,52.49857 L 13.41403,52.49847 L 13.41407,52.49843 L 13.41379,52.49805 L 13.41373,52.49802 L 13.41373,52.49797 L 13.41365,52.49797 L 13.41361,52.49793 L 13.41354,52.49791 L 13.41296,52.49787 L 13.41291,52.49784 L 13.41292,52.49779 L 13.41285,52.49777 L 13.41242,52.49717 L 13.41243,52.49711 L 13.41236,52.49709 L 13.41193,52.4965 L 13.41195,52.49645 L 13.4118,52.49644 L 13.41159,52.49637 L 13.4115,52.49623 L 13.41137,52.49596 L 13.4114,52.49592 L 13.41139,52.49587 L 13.41116,52.49583 L 13.41051,52.49588 L 13.41049,52.49585 L 13.41023,52.4959 L 13.40854,52.49604 L 13.40822,52.4956 L 13.40777,52.49568 L 13.40639,52.49586 L 13.40612,52.49595 L 13.40572,52.49634 L 13.40561,52.49639 L 13.40511,52.49646 L 13.40172,52.4967 L 13.40091,52.4968 L 13.39992,52.49696 L 13.39879,52.4972 L 13.39876,52.49716 L 13.39871,52.49714 L 13.39874,52.49705 L 13.3987,52.49705 L 13.39866,52.49711 L 13.39793,52.49733 L 13.39593,52.49763 L 13.39591,52.49759 L 13.3958,52.49761 z\" /></g></g></svg>"
      ],
      "text/plain": [
       "<shapely.geometry.multipolygon.MultiPolygon at 0x1158d2ac8>"
      ]
     },
     "execution_count": 24,
     "metadata": {},
     "output_type": "execute_result"
    }
   ],
   "source": [
    "import shapely.wkt\n",
    "shapely.wkt.loads(wkt_shape)"
   ]
  },
  {
   "cell_type": "markdown",
   "metadata": {},
   "source": [
    "Real maps coming, soon!"
   ]
  }
 ],
 "metadata": {
  "kernelspec": {
   "display_name": "Python 3",
   "language": "python",
   "name": "python3"
  },
  "language_info": {
   "codemirror_mode": {
    "name": "ipython",
    "version": 3
   },
   "file_extension": ".py",
   "mimetype": "text/x-python",
   "name": "python",
   "nbconvert_exporter": "python",
   "pygments_lexer": "ipython3",
   "version": "3.6.3"
  }
 },
 "nbformat": 4,
 "nbformat_minor": 2
}
